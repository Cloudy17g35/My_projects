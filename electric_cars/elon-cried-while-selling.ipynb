{
 "cells": [
  {
   "cell_type": "code",
   "execution_count": null,
   "metadata": {
    "_cell_guid": "b1076dfc-b9ad-4769-8c92-a6c4dae69d19",
    "_uuid": "8f2839f25d086af736a60e9eeb907d3b93b6e0e5",
    "execution": {
     "iopub.execute_input": "2021-09-19T11:16:45.696379Z",
     "iopub.status.busy": "2021-09-19T11:16:45.696035Z",
     "iopub.status.idle": "2021-09-19T11:16:45.705416Z",
     "shell.execute_reply": "2021-09-19T11:16:45.703986Z",
     "shell.execute_reply.started": "2021-09-19T11:16:45.696349Z"
    }
   },
   "outputs": [],
   "source": [
    "import numpy as np # linear algebra\n",
    "import pandas as pd # data processing, CSV file I/O (e.g. pd.read_csv)\n",
    "import matplotlib.pyplot as plt\n",
    "import seaborn as sns\n",
    "import plotly.graph_objs as go\n",
    "import plotly.express as px"
   ]
  },
  {
   "cell_type": "markdown",
   "metadata": {},
   "source": [
    "# 1.  Examine the data and set goals"
   ]
  },
  {
   "cell_type": "markdown",
   "metadata": {},
   "source": [
    "Goal of this analysis is to find cheap and good eletric car. Eletric cars market gets bigger and bigger nowadays. Now hybrid cars are the most popular, but it's gonna change, I guess."
   ]
  },
  {
   "cell_type": "markdown",
   "metadata": {},
   "source": [
    "So let's start with makin pandas DataFrame to store data"
   ]
  },
  {
   "cell_type": "code",
   "execution_count": null,
   "metadata": {
    "execution": {
     "iopub.execute_input": "2021-09-19T11:16:26.836298Z",
     "iopub.status.busy": "2021-09-19T11:16:26.83578Z",
     "iopub.status.idle": "2021-09-19T11:16:26.852463Z",
     "shell.execute_reply": "2021-09-19T11:16:26.851458Z",
     "shell.execute_reply.started": "2021-09-19T11:16:26.836265Z"
    }
   },
   "outputs": [],
   "source": [
    "cars = pd.read_csv('Cheapestelectriccars-EVDatabase.csv')"
   ]
  },
  {
   "cell_type": "markdown",
   "metadata": {},
   "source": [
    "Selecting first 5 rows"
   ]
  },
  {
   "cell_type": "code",
   "execution_count": null,
   "metadata": {
    "execution": {
     "iopub.execute_input": "2021-09-19T11:16:26.854399Z",
     "iopub.status.busy": "2021-09-19T11:16:26.854004Z",
     "iopub.status.idle": "2021-09-19T11:16:26.872713Z",
     "shell.execute_reply": "2021-09-19T11:16:26.871726Z",
     "shell.execute_reply.started": "2021-09-19T11:16:26.854359Z"
    }
   },
   "outputs": [],
   "source": [
    "cars.head()"
   ]
  },
  {
   "cell_type": "markdown",
   "metadata": {},
   "source": [
    "... And last five rows"
   ]
  },
  {
   "cell_type": "code",
   "execution_count": null,
   "metadata": {
    "execution": {
     "iopub.execute_input": "2021-09-19T11:16:26.874333Z",
     "iopub.status.busy": "2021-09-19T11:16:26.874117Z",
     "iopub.status.idle": "2021-09-19T11:16:26.898314Z",
     "shell.execute_reply": "2021-09-19T11:16:26.897302Z",
     "shell.execute_reply.started": "2021-09-19T11:16:26.874308Z"
    }
   },
   "outputs": [],
   "source": [
    "cars.tail()"
   ]
  },
  {
   "cell_type": "markdown",
   "metadata": {},
   "source": [
    "Using describe,info methods and examine null values"
   ]
  },
  {
   "cell_type": "code",
   "execution_count": null,
   "metadata": {
    "execution": {
     "iopub.execute_input": "2021-09-19T11:16:26.901052Z",
     "iopub.status.busy": "2021-09-19T11:16:26.900816Z",
     "iopub.status.idle": "2021-09-19T11:16:26.918934Z",
     "shell.execute_reply": "2021-09-19T11:16:26.917751Z",
     "shell.execute_reply.started": "2021-09-19T11:16:26.901025Z"
    }
   },
   "outputs": [],
   "source": [
    "cars.describe()"
   ]
  },
  {
   "cell_type": "code",
   "execution_count": null,
   "metadata": {
    "execution": {
     "iopub.execute_input": "2021-09-19T11:16:26.920665Z",
     "iopub.status.busy": "2021-09-19T11:16:26.920371Z",
     "iopub.status.idle": "2021-09-19T11:16:26.939369Z",
     "shell.execute_reply": "2021-09-19T11:16:26.937992Z",
     "shell.execute_reply.started": "2021-09-19T11:16:26.920628Z"
    }
   },
   "outputs": [],
   "source": [
    "cars.info()"
   ]
  },
  {
   "cell_type": "code",
   "execution_count": null,
   "metadata": {
    "execution": {
     "iopub.execute_input": "2021-09-19T11:16:26.941389Z",
     "iopub.status.busy": "2021-09-19T11:16:26.941049Z",
     "iopub.status.idle": "2021-09-19T11:16:26.953047Z",
     "shell.execute_reply": "2021-09-19T11:16:26.951755Z",
     "shell.execute_reply.started": "2021-09-19T11:16:26.941345Z"
    }
   },
   "outputs": [],
   "source": [
    "cars.isnull().sum()"
   ]
  },
  {
   "cell_type": "markdown",
   "metadata": {},
   "source": [
    "I'm going to change the names of the columns, and drop PriceinUK column, it's redundant"
   ]
  },
  {
   "cell_type": "code",
   "execution_count": null,
   "metadata": {
    "execution": {
     "iopub.execute_input": "2021-09-19T11:16:26.955672Z",
     "iopub.status.busy": "2021-09-19T11:16:26.955168Z",
     "iopub.status.idle": "2021-09-19T11:16:26.962235Z",
     "shell.execute_reply": "2021-09-19T11:16:26.960926Z",
     "shell.execute_reply.started": "2021-09-19T11:16:26.955622Z"
    }
   },
   "outputs": [],
   "source": [
    "\n",
    "cars.columns = ['name', 'subtitle','acceleration_in_sec', 'top_speed_km_per_h', 'range_km', \n",
    "                'efficiency_wh_per_hour','fast_charge_speed_km_per_h','drive', 'number_of_seats', 'price_in_euros', 'price_to_drop']"
   ]
  },
  {
   "cell_type": "code",
   "execution_count": null,
   "metadata": {
    "execution": {
     "iopub.execute_input": "2021-09-19T11:16:26.964442Z",
     "iopub.status.busy": "2021-09-19T11:16:26.964014Z",
     "iopub.status.idle": "2021-09-19T11:16:26.976949Z",
     "shell.execute_reply": "2021-09-19T11:16:26.975944Z",
     "shell.execute_reply.started": "2021-09-19T11:16:26.964399Z"
    }
   },
   "outputs": [],
   "source": [
    "cars.drop(columns='price_to_drop', inplace=True)"
   ]
  },
  {
   "cell_type": "code",
   "execution_count": null,
   "metadata": {
    "execution": {
     "iopub.execute_input": "2021-09-19T11:16:26.97902Z",
     "iopub.status.busy": "2021-09-19T11:16:26.978536Z",
     "iopub.status.idle": "2021-09-19T11:16:26.99212Z",
     "shell.execute_reply": "2021-09-19T11:16:26.990894Z",
     "shell.execute_reply.started": "2021-09-19T11:16:26.978984Z"
    }
   },
   "outputs": [],
   "source": [
    "numeric_columns = cars.loc[:,['acceleration_in_sec', 'top_speed_km_per_h', 'range_km', \n",
    "                'efficiency_wh_per_hour','fast_charge_speed_km_per_h', 'number_of_seats', 'price_in_euros']]"
   ]
  },
  {
   "cell_type": "code",
   "execution_count": null,
   "metadata": {
    "execution": {
     "iopub.execute_input": "2021-09-19T11:16:26.994197Z",
     "iopub.status.busy": "2021-09-19T11:16:26.993309Z",
     "iopub.status.idle": "2021-09-19T11:16:27.022552Z",
     "shell.execute_reply": "2021-09-19T11:16:27.021818Z",
     "shell.execute_reply.started": "2021-09-19T11:16:26.994148Z"
    }
   },
   "outputs": [],
   "source": [
    "numeric_columns"
   ]
  },
  {
   "cell_type": "markdown",
   "metadata": {},
   "source": [
    "Converting objects type to numeric"
   ]
  },
  {
   "cell_type": "code",
   "execution_count": null,
   "metadata": {
    "execution": {
     "iopub.execute_input": "2021-09-19T11:16:27.02464Z",
     "iopub.status.busy": "2021-09-19T11:16:27.023695Z",
     "iopub.status.idle": "2021-09-19T11:16:27.045547Z",
     "shell.execute_reply": "2021-09-19T11:16:27.044507Z",
     "shell.execute_reply.started": "2021-09-19T11:16:27.0246Z"
    }
   },
   "outputs": [],
   "source": [
    "cars.acceleration_in_sec = cars.acceleration_in_sec.str.replace('sec','').astype('float')\n",
    "cars.top_speed_km_per_h.str.replace('km/h','').astype('int')\n",
    "cars.range_km = cars.range_km.str.replace('km','').astype('int')\n",
    "cars.efficiency_wh_per_hour = cars.efficiency_wh_per_hour.str.replace('Wh/km','').astype('int')\n",
    "cars.fast_charge_speed_km_per_h = cars.fast_charge_speed_km_per_h.str.replace('km/h', '')\n",
    "cars.price_in_euros = cars.price_in_euros.str.replace('€', '').str.replace(',','.').astype('float')"
   ]
  },
  {
   "cell_type": "markdown",
   "metadata": {},
   "source": [
    "We still have null values in the price in euros column, I'm going to set the mean price value for missing prices"
   ]
  },
  {
   "cell_type": "code",
   "execution_count": null,
   "metadata": {
    "execution": {
     "iopub.execute_input": "2021-09-19T11:16:27.049228Z",
     "iopub.status.busy": "2021-09-19T11:16:27.048306Z",
     "iopub.status.idle": "2021-09-19T11:16:27.064896Z",
     "shell.execute_reply": "2021-09-19T11:16:27.063773Z",
     "shell.execute_reply.started": "2021-09-19T11:16:27.049178Z"
    }
   },
   "outputs": [],
   "source": [
    "cars.loc[cars.price_in_euros.isnull(), 'price_in_euros'] = round(cars.price_in_euros.mean(),2)"
   ]
  },
  {
   "cell_type": "markdown",
   "metadata": {},
   "source": [
    "Now let's use describe method"
   ]
  },
  {
   "cell_type": "code",
   "execution_count": null,
   "metadata": {
    "execution": {
     "iopub.execute_input": "2021-09-19T11:16:27.066879Z",
     "iopub.status.busy": "2021-09-19T11:16:27.065973Z",
     "iopub.status.idle": "2021-09-19T11:16:27.10169Z",
     "shell.execute_reply": "2021-09-19T11:16:27.10068Z",
     "shell.execute_reply.started": "2021-09-19T11:16:27.066847Z"
    }
   },
   "outputs": [],
   "source": [
    "cars.describe()"
   ]
  },
  {
   "cell_type": "markdown",
   "metadata": {},
   "source": [
    "Heatmap and correlation"
   ]
  },
  {
   "cell_type": "code",
   "execution_count": null,
   "metadata": {
    "execution": {
     "iopub.execute_input": "2021-09-19T11:16:27.103078Z",
     "iopub.status.busy": "2021-09-19T11:16:27.102847Z",
     "iopub.status.idle": "2021-09-19T11:16:27.433105Z",
     "shell.execute_reply": "2021-09-19T11:16:27.432237Z",
     "shell.execute_reply.started": "2021-09-19T11:16:27.103053Z"
    }
   },
   "outputs": [],
   "source": [
    "sns.heatmap(cars.corr())"
   ]
  },
  {
   "cell_type": "code",
   "execution_count": null,
   "metadata": {
    "execution": {
     "iopub.execute_input": "2021-09-19T11:16:27.434661Z",
     "iopub.status.busy": "2021-09-19T11:16:27.434402Z",
     "iopub.status.idle": "2021-09-19T11:16:27.449151Z",
     "shell.execute_reply": "2021-09-19T11:16:27.448314Z",
     "shell.execute_reply.started": "2021-09-19T11:16:27.434632Z"
    }
   },
   "outputs": [],
   "source": [
    "cars.corr()"
   ]
  },
  {
   "cell_type": "markdown",
   "metadata": {},
   "source": [
    "We can see strong positive correlation between price and range. But we can see two negative strong correlations: accelration and range and price and acceleration. It means that when acceleration decreases price increases. But it also means that when range increases acceleration decreases."
   ]
  },
  {
   "cell_type": "markdown",
   "metadata": {},
   "source": [
    "## 2. Data visualizations"
   ]
  },
  {
   "cell_type": "markdown",
   "metadata": {},
   "source": [
    "Scatter plot:"
   ]
  },
  {
   "cell_type": "code",
   "execution_count": null,
   "metadata": {
    "execution": {
     "iopub.execute_input": "2021-09-19T11:16:48.972098Z",
     "iopub.status.busy": "2021-09-19T11:16:48.971312Z",
     "iopub.status.idle": "2021-09-19T11:16:49.062203Z",
     "shell.execute_reply": "2021-09-19T11:16:49.061344Z",
     "shell.execute_reply.started": "2021-09-19T11:16:48.972051Z"
    }
   },
   "outputs": [],
   "source": [
    "fig = px.scatter(cars, x = 'range_km', y='acceleration_in_sec',hover_data=['name'],\n",
    "                color = 'price_in_euros', trendline='ols', trendline_scope = 'overall')\n",
    "\n",
    "fig.update_layout(\n",
    "    title={\n",
    "        'text': 'eletric cars scatter plot',\n",
    "        'y':0.92,\n",
    "        'x':0.5,\n",
    "        'xanchor': 'center',\n",
    "        'yanchor': 'bottom'},\n",
    "    legend = {'orientation': 'h'}\n",
    ")\n",
    "\n",
    "fig.show()"
   ]
  },
  {
   "cell_type": "markdown",
   "metadata": {},
   "source": [
    "Acceleration in this table is expressed in seconds: how much seconds the car needs to get from 0 to 100 km/h.\n",
    "For example : Acceleration time  10 sec is worse than acceleration 5 sec in this case. But there's also one catch. When acceleration time decreases the total range you can drive increases. And when acceleration time descreases, range increases... the price increases too. It's quite logick. You want so fast and long-living eletric car? You have to pay more."
   ]
  },
  {
   "cell_type": "markdown",
   "metadata": {},
   "source": [
    "Let's group the cars by range"
   ]
  },
  {
   "cell_type": "code",
   "execution_count": null,
   "metadata": {
    "execution": {
     "iopub.execute_input": "2021-09-19T11:16:27.542929Z",
     "iopub.status.busy": "2021-09-19T11:16:27.542688Z",
     "iopub.status.idle": "2021-09-19T11:16:28.207983Z",
     "shell.execute_reply": "2021-09-19T11:16:28.207284Z",
     "shell.execute_reply.started": "2021-09-19T11:16:27.542901Z"
    }
   },
   "outputs": [],
   "source": [
    "cars_range_from_90_to_400 = cars.loc[cars.range_km.between(90,400)]\n",
    "cars_range_from_401_to_600 = cars.loc[cars.range_km.between(401,650)]\n",
    "cars_range_from_601_to_1000 = cars.loc[cars.range_km.between(651,1000)]\n",
    "\n",
    "fig, ax = plt.subplots(figsize=(15,5))\n",
    "plt.style.use('fivethirtyeight')\n",
    "sns.set_style('white')\n",
    "ax.set_ylim([15,250])\n",
    "ax.set_xlim([90, 1000])\n",
    "ax.bar(cars_range_from_90_to_400['range_km'], cars_range_from_90_to_400['price_in_euros'],width=6)\n",
    "ax.bar(cars_range_from_401_to_600['range_km'], cars_range_from_401_to_600['price_in_euros'],width=6)\n",
    "ax.bar(cars_range_from_601_to_1000['range_km'], cars_range_from_601_to_1000['price_in_euros'],width=6)\n",
    "\n",
    "spines = ['right', 'left', 'bottom', 'top'] #  setting spines\n",
    "for spine in spines:\n",
    "    ax.spines[spine].set_visible(False)\n",
    "\n",
    "ax.xaxis.set_label_text('range (km)', fontsize = 18, weight = 'bold')\n",
    "ax.yaxis.set_label_text('price (thousands of €)', fontsize = 18, weight = 'bold')\n",
    "ax.set_title('Range categories:', weight='bold')\n",
    "ax.legend(['90-400 km','401-650 km','651-1000 km'], loc=\"upper center\")"
   ]
  },
  {
   "cell_type": "markdown",
   "metadata": {
    "execution": {
     "iopub.execute_input": "2021-09-19T10:28:10.485777Z",
     "iopub.status.busy": "2021-09-19T10:28:10.485288Z",
     "iopub.status.idle": "2021-09-19T10:28:10.491884Z",
     "shell.execute_reply": "2021-09-19T10:28:10.491141Z",
     "shell.execute_reply.started": "2021-09-19T10:28:10.485744Z"
    }
   },
   "source": [
    "On the plot above there is some of the cars with range between 90 - 400 km and they are more expensive than cars with range between 400 and 650. Why?"
   ]
  },
  {
   "cell_type": "code",
   "execution_count": null,
   "metadata": {
    "execution": {
     "iopub.execute_input": "2021-09-19T11:16:28.209636Z",
     "iopub.status.busy": "2021-09-19T11:16:28.209214Z",
     "iopub.status.idle": "2021-09-19T11:16:28.224937Z",
     "shell.execute_reply": "2021-09-19T11:16:28.224331Z",
     "shell.execute_reply.started": "2021-09-19T11:16:28.209585Z"
    }
   },
   "outputs": [],
   "source": [
    "cars_range_from_90_to_400.loc[cars_range_from_90_to_400.price_in_euros > 150]"
   ]
  },
  {
   "cell_type": "markdown",
   "metadata": {},
   "source": [
    "They're all Porsches. This cars are very exclusive and their usually more expensive than others cars."
   ]
  },
  {
   "cell_type": "code",
   "execution_count": null,
   "metadata": {
    "execution": {
     "iopub.execute_input": "2021-09-19T11:16:28.226303Z",
     "iopub.status.busy": "2021-09-19T11:16:28.226081Z",
     "iopub.status.idle": "2021-09-19T11:16:28.239861Z",
     "shell.execute_reply": "2021-09-19T11:16:28.238861Z",
     "shell.execute_reply.started": "2021-09-19T11:16:28.226278Z"
    }
   },
   "outputs": [],
   "source": [
    "top_10 = cars_range_from_90_to_400.loc[cars_range_from_90_to_400.price_in_euros < 150].sort_values(by='price_in_euros').tail(10)"
   ]
  },
  {
   "cell_type": "code",
   "execution_count": null,
   "metadata": {
    "execution": {
     "iopub.execute_input": "2021-09-19T11:16:28.242047Z",
     "iopub.status.busy": "2021-09-19T11:16:28.241624Z",
     "iopub.status.idle": "2021-09-19T11:16:28.266145Z",
     "shell.execute_reply": "2021-09-19T11:16:28.265043Z",
     "shell.execute_reply.started": "2021-09-19T11:16:28.242004Z"
    }
   },
   "outputs": [],
   "source": [
    "top_10"
   ]
  },
  {
   "cell_type": "markdown",
   "metadata": {},
   "source": [
    "## 3.Conclusions "
   ]
  },
  {
   "cell_type": "markdown",
   "metadata": {},
   "source": [
    "I think that this is the best 10 options to buy if you have less than 150 thousands €. If you have more in my the  winner of this competition is: **Tesla Roadster**. I made this conclusion because they all have quite big range (for me this is the most important - you should ride a car not charging it all the days). They have quite good accleration. As car charging places will be growing and growing it will be better to buy cars with lower range and bigger fast charge speed. But now - it's not such good idea."
   ]
  }
 ],
 "metadata": {
  "kernelspec": {
   "display_name": "Python 3",
   "language": "python",
   "name": "python3"
  },
  "language_info": {
   "codemirror_mode": {
    "name": "ipython",
    "version": 3
   },
   "file_extension": ".py",
   "mimetype": "text/x-python",
   "name": "python",
   "nbconvert_exporter": "python",
   "pygments_lexer": "ipython3",
   "version": "3.8.5"
  }
 },
 "nbformat": 4,
 "nbformat_minor": 4
}
