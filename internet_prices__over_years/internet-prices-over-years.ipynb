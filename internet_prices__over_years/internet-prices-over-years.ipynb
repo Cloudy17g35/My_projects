{
 "cells": [
  {
   "cell_type": "code",
   "execution_count": 1,
   "metadata": {
    "_cell_guid": "b1076dfc-b9ad-4769-8c92-a6c4dae69d19",
    "_kg_hide-input": true,
    "_uuid": "8f2839f25d086af736a60e9eeb907d3b93b6e0e5",
    "execution": {
     "iopub.execute_input": "2021-11-06T13:30:16.528496Z",
     "iopub.status.busy": "2021-11-06T13:30:16.528168Z",
     "iopub.status.idle": "2021-11-06T13:30:16.548329Z",
     "shell.execute_reply": "2021-11-06T13:30:16.547351Z",
     "shell.execute_reply.started": "2021-11-06T13:30:16.528465Z"
    }
   },
   "outputs": [
    {
     "ename": "ModuleNotFoundError",
     "evalue": "No module named 'geopandas'",
     "output_type": "error",
     "traceback": [
      "\u001b[1;31m---------------------------------------------------------------------------\u001b[0m",
      "\u001b[1;31mModuleNotFoundError\u001b[0m                       Traceback (most recent call last)",
      "\u001b[1;32m<ipython-input-1-e31dfe2317fa>\u001b[0m in \u001b[0;36m<module>\u001b[1;34m\u001b[0m\n\u001b[0;32m     14\u001b[0m \u001b[1;32mimport\u001b[0m \u001b[0mplotly\u001b[0m\u001b[1;33m.\u001b[0m\u001b[0mexpress\u001b[0m \u001b[1;32mas\u001b[0m \u001b[0mpx\u001b[0m\u001b[1;33m\u001b[0m\u001b[1;33m\u001b[0m\u001b[0m\n\u001b[0;32m     15\u001b[0m \u001b[1;33m\u001b[0m\u001b[0m\n\u001b[1;32m---> 16\u001b[1;33m \u001b[1;32mimport\u001b[0m \u001b[0mgeopandas\u001b[0m \u001b[1;32mas\u001b[0m \u001b[0mgpd\u001b[0m\u001b[1;33m\u001b[0m\u001b[1;33m\u001b[0m\u001b[0m\n\u001b[0m\u001b[0;32m     17\u001b[0m \u001b[1;33m\u001b[0m\u001b[0m\n\u001b[0;32m     18\u001b[0m \u001b[1;32mfrom\u001b[0m \u001b[0mplotly\u001b[0m\u001b[1;33m.\u001b[0m\u001b[0moffline\u001b[0m \u001b[1;32mimport\u001b[0m \u001b[0mplot\u001b[0m\u001b[1;33m,\u001b[0m \u001b[0miplot\u001b[0m\u001b[1;33m,\u001b[0m \u001b[0minit_notebook_mode\u001b[0m\u001b[1;33m\u001b[0m\u001b[1;33m\u001b[0m\u001b[0m\n",
      "\u001b[1;31mModuleNotFoundError\u001b[0m: No module named 'geopandas'"
     ]
    }
   ],
   "source": [
    "import pandas as pd\n",
    "import numpy as np\n",
    "\n",
    "import matplotlib.pyplot as plt\n",
    "import matplotlib\n",
    "import seaborn as sns\n",
    "import warnings\n",
    "warnings.simplefilter(action='ignore', category=FutureWarning)\n",
    "warnings.simplefilter(action='ignore', category=UserWarning)\n",
    "sns.set(style=\"white\")\n",
    "\n",
    "\n",
    "import plotly\n",
    "import plotly.express as px\n",
    "\n",
    "import geopandas as gpd\n",
    "\n",
    "from plotly.offline import plot, iplot, init_notebook_mode\n",
    "init_notebook_mode(connected=True)\n",
    "\n",
    "\n",
    "df = pd.read_csv(\n",
    "    \n",
    "    'cities_internet_prices_historical.24-10-2021.csv'\n",
    ")"
   ]
  },
  {
   "cell_type": "markdown",
   "metadata": {},
   "source": [
    "Basic informations:\n",
    "\n",
    "* 695 rows\n",
    "* 14 columns\n",
    "\n",
    "This dataset contatins data about internet prices from whole world in years 2010 - 2020.\n",
    "I' m going to use this dataset to answer questions I'm interested in:\n",
    "\n",
    "* WHERE INTERNET WAS THE CHEAPEST AND WHERE IT WAS THE MOST EXPENSIVE?\n",
    "* HOW INTERNET PRICES DISTRIBUTION CHANGED OVER YEARS?\n",
    "* HOW INTERNET PRICES WAS CHANGING OVER THE YEARS IN POLAND?\n"
   ]
  },
  {
   "cell_type": "markdown",
   "metadata": {},
   "source": [
    "## 1.DATA PREPROCESSING"
   ]
  },
  {
   "cell_type": "markdown",
   "metadata": {},
   "source": [
    "First five and last five values:"
   ]
  },
  {
   "cell_type": "code",
   "execution_count": null,
   "metadata": {
    "_kg_hide-input": true,
    "execution": {
     "iopub.execute_input": "2021-11-06T13:26:59.987114Z",
     "iopub.status.busy": "2021-11-06T13:26:59.986769Z",
     "iopub.status.idle": "2021-11-06T13:27:00.017467Z",
     "shell.execute_reply": "2021-11-06T13:27:00.016587Z",
     "shell.execute_reply.started": "2021-11-06T13:26:59.987082Z"
    }
   },
   "outputs": [],
   "source": [
    "df.head()"
   ]
  },
  {
   "cell_type": "code",
   "execution_count": null,
   "metadata": {
    "_kg_hide-input": true,
    "execution": {
     "iopub.execute_input": "2021-11-06T13:27:00.018825Z",
     "iopub.status.busy": "2021-11-06T13:27:00.018600Z",
     "iopub.status.idle": "2021-11-06T13:27:00.037641Z",
     "shell.execute_reply": "2021-11-06T13:27:00.036915Z",
     "shell.execute_reply.started": "2021-11-06T13:27:00.018798Z"
    }
   },
   "outputs": [],
   "source": [
    "df.tail()"
   ]
  },
  {
   "cell_type": "markdown",
   "metadata": {},
   "source": [
    "First thing which is visible for me is that in many columns we can see value 0. it may be a big problem which may make all further analysis unreliable"
   ]
  },
  {
   "cell_type": "markdown",
   "metadata": {
    "execution": {
     "iopub.execute_input": "2021-11-05T11:32:41.397804Z",
     "iopub.status.busy": "2021-11-05T11:32:41.397497Z",
     "iopub.status.idle": "2021-11-05T11:32:41.407816Z",
     "shell.execute_reply": "2021-11-05T11:32:41.407014Z",
     "shell.execute_reply.started": "2021-11-05T11:32:41.397768Z"
    }
   },
   "source": [
    "Null values?"
   ]
  },
  {
   "cell_type": "code",
   "execution_count": null,
   "metadata": {
    "_kg_hide-input": true,
    "execution": {
     "iopub.execute_input": "2021-11-06T13:27:00.040134Z",
     "iopub.status.busy": "2021-11-06T13:27:00.039592Z",
     "iopub.status.idle": "2021-11-06T13:27:00.053754Z",
     "shell.execute_reply": "2021-11-06T13:27:00.053123Z",
     "shell.execute_reply.started": "2021-11-06T13:27:00.040103Z"
    }
   },
   "outputs": [],
   "source": [
    "df.isnull().sum()"
   ]
  },
  {
   "cell_type": "markdown",
   "metadata": {},
   "source": [
    "there are supposed to be 90 empty values in Region but it's not right, it's much much more and not only in this column.\n",
    "\n",
    "\n",
    "Let's replace 0. with Nan."
   ]
  },
  {
   "cell_type": "code",
   "execution_count": null,
   "metadata": {
    "_kg_hide-input": true,
    "execution": {
     "iopub.execute_input": "2021-11-06T13:27:00.055354Z",
     "iopub.status.busy": "2021-11-06T13:27:00.055065Z",
     "iopub.status.idle": "2021-11-06T13:27:00.065991Z",
     "shell.execute_reply": "2021-11-06T13:27:00.065047Z",
     "shell.execute_reply.started": "2021-11-06T13:27:00.055323Z"
    }
   },
   "outputs": [],
   "source": [
    "df.replace(0., np.nan, inplace=True)\n",
    "df.isnull().sum()"
   ]
  },
  {
   "cell_type": "markdown",
   "metadata": {},
   "source": [
    "Before analysis go any further I'm going to replace columns names."
   ]
  },
  {
   "cell_type": "code",
   "execution_count": null,
   "metadata": {
    "_kg_hide-input": true,
    "execution": {
     "iopub.execute_input": "2021-11-06T13:27:00.068381Z",
     "iopub.status.busy": "2021-11-06T13:27:00.067881Z",
     "iopub.status.idle": "2021-11-06T13:27:00.074711Z",
     "shell.execute_reply": "2021-11-06T13:27:00.074032Z",
     "shell.execute_reply.started": "2021-11-06T13:27:00.068339Z"
    }
   },
   "outputs": [],
   "source": [
    "new_columns = list(df.columns[:3])\n",
    "for column in df.columns[3:]:\n",
    "    new_columns.append('price_in_' + column[-4:])\n",
    "\n",
    "df.columns = new_columns"
   ]
  },
  {
   "cell_type": "code",
   "execution_count": null,
   "metadata": {
    "_kg_hide-input": true,
    "execution": {
     "iopub.execute_input": "2021-11-06T13:27:00.076303Z",
     "iopub.status.busy": "2021-11-06T13:27:00.075966Z",
     "iopub.status.idle": "2021-11-06T13:27:00.103432Z",
     "shell.execute_reply": "2021-11-06T13:27:00.102877Z",
     "shell.execute_reply.started": "2021-11-06T13:27:00.076276Z"
    }
   },
   "outputs": [],
   "source": [
    "df.sample()"
   ]
  },
  {
   "cell_type": "markdown",
   "metadata": {},
   "source": [
    "Now we can see how much null vales we have in real, let's see how it looks in percentages"
   ]
  },
  {
   "cell_type": "code",
   "execution_count": null,
   "metadata": {
    "_kg_hide-input": true,
    "execution": {
     "iopub.execute_input": "2021-11-06T13:27:00.105106Z",
     "iopub.status.busy": "2021-11-06T13:27:00.104464Z",
     "iopub.status.idle": "2021-11-06T13:27:00.116206Z",
     "shell.execute_reply": "2021-11-06T13:27:00.115351Z",
     "shell.execute_reply.started": "2021-11-06T13:27:00.105072Z"
    }
   },
   "outputs": [],
   "source": [
    "from typing import List\n",
    "\n",
    "def percentage_nan_numeric(data_frame=df):\n",
    "    \"\"\"This function takes pandas DataFrame by default it's df,\n",
    "    it returns percentile of null values in every numeric column\"\"\"\n",
    "    \n",
    "    numeric_columns = df.select_dtypes(include=[np.number])\n",
    "    \n",
    "    total_rows:int = numeric_columns.shape[0]\n",
    "    \n",
    "    numeric_columns_null_values:List[int] = numeric_columns.isnull().sum().to_dict()\n",
    "    \n",
    "    for column, null_values in numeric_columns_null_values.items():\n",
    "        print(f'Percentage of null values {column} : {round((null_values / total_rows) * 100)}%' )\n",
    "    "
   ]
  },
  {
   "cell_type": "code",
   "execution_count": null,
   "metadata": {
    "_kg_hide-input": true,
    "execution": {
     "iopub.execute_input": "2021-11-06T13:27:00.118131Z",
     "iopub.status.busy": "2021-11-06T13:27:00.117792Z",
     "iopub.status.idle": "2021-11-06T13:27:00.136962Z",
     "shell.execute_reply": "2021-11-06T13:27:00.135936Z",
     "shell.execute_reply.started": "2021-11-06T13:27:00.118091Z"
    }
   },
   "outputs": [],
   "source": [
    "percentage_nan_numeric()"
   ]
  },
  {
   "cell_type": "markdown",
   "metadata": {},
   "source": [
    "There's many null values in this column, but we can see pattern, with every year it's less and less.\n",
    "\n",
    "But there's one outlier - Internet price in 2020 has 32 %, it doesn't match the pattern I described above.\n",
    "\n",
    "Anyway I'll use one method to handle with null values.\n",
    "\n",
    "* I will take mean of not null values from every column and replace null values with this mean.\n",
    "\n",
    "* good approach migth be using supervised method KNN from sklearn. More about KNN may be find in this great article: [KNN](https://towardsdatascience.com/machine-learning-basics-with-the-k-nearest-neighbors-algorithm-6a6e71d01761) but I'll leave it only as a clue because I'm not going to use it"
   ]
  },
  {
   "cell_type": "markdown",
   "metadata": {
    "execution": {
     "iopub.execute_input": "2021-11-05T12:25:56.816965Z",
     "iopub.status.busy": "2021-11-05T12:25:56.816508Z",
     "iopub.status.idle": "2021-11-05T12:25:56.82618Z",
     "shell.execute_reply": "2021-11-05T12:25:56.823903Z",
     "shell.execute_reply.started": "2021-11-05T12:25:56.816929Z"
    }
   },
   "source": [
    "### First approach - means"
   ]
  },
  {
   "cell_type": "code",
   "execution_count": null,
   "metadata": {
    "_kg_hide-input": true,
    "execution": {
     "iopub.execute_input": "2021-11-06T13:27:00.141097Z",
     "iopub.status.busy": "2021-11-06T13:27:00.140696Z",
     "iopub.status.idle": "2021-11-06T13:27:00.146666Z",
     "shell.execute_reply": "2021-11-06T13:27:00.145894Z",
     "shell.execute_reply.started": "2021-11-06T13:27:00.141063Z"
    }
   },
   "outputs": [],
   "source": [
    "def inpute_means(data_frame=df):\n",
    "    \n",
    "    \"\"\"takes one kwarg data_frame by default it's df \n",
    "    returns new data frame with null values filled with means\"\"\"\n",
    "    \n",
    "    not_numeric = df.select_dtypes(exclude=[np.number])\n",
    "    numeric = df.select_dtypes(include=[np.number])\n",
    "    \n",
    "    for column in numeric:\n",
    "        numeric[column].fillna(np.mean(df[column]), inplace=True)\n",
    "        \n",
    "    return pd.concat([not_numeric, numeric], axis=1) # connecting not numeric coulumns with numeric"
   ]
  },
  {
   "cell_type": "code",
   "execution_count": null,
   "metadata": {
    "_kg_hide-input": true,
    "execution": {
     "iopub.execute_input": "2021-11-06T13:27:00.147975Z",
     "iopub.status.busy": "2021-11-06T13:27:00.147731Z",
     "iopub.status.idle": "2021-11-06T13:27:00.169233Z",
     "shell.execute_reply": "2021-11-06T13:27:00.168333Z",
     "shell.execute_reply.started": "2021-11-06T13:27:00.147947Z"
    }
   },
   "outputs": [],
   "source": [
    "df_copy = df # setting the copy of the old data frame\n",
    "df = inpute_means()"
   ]
  },
  {
   "cell_type": "markdown",
   "metadata": {},
   "source": [
    "Basics informations:"
   ]
  },
  {
   "cell_type": "code",
   "execution_count": null,
   "metadata": {
    "_kg_hide-input": true,
    "execution": {
     "iopub.execute_input": "2021-11-06T13:27:00.171388Z",
     "iopub.status.busy": "2021-11-06T13:27:00.170912Z",
     "iopub.status.idle": "2021-11-06T13:27:00.214473Z",
     "shell.execute_reply": "2021-11-06T13:27:00.213546Z",
     "shell.execute_reply.started": "2021-11-06T13:27:00.171345Z"
    }
   },
   "outputs": [],
   "source": [
    "df.describe()"
   ]
  },
  {
   "cell_type": "markdown",
   "metadata": {},
   "source": [
    "[IQR range](https://www.statisticshowto.com/probability-and-statistics/interquartile-range/) - looks really bad in prices from 2010 to 2015,\n",
    "[standard deviation](https://en.wikipedia.org/wiki/Standard_deviation)\n",
    "is also quite alarming but this is the result of what was done before (inputing means). Droping some columns might be inevitable."
   ]
  },
  {
   "cell_type": "markdown",
   "metadata": {},
   "source": [
    "## 2. DATA VISUALIZATIONS"
   ]
  },
  {
   "cell_type": "code",
   "execution_count": null,
   "metadata": {
    "_kg_hide-input": true,
    "execution": {
     "iopub.execute_input": "2021-11-06T13:27:00.215921Z",
     "iopub.status.busy": "2021-11-06T13:27:00.215671Z",
     "iopub.status.idle": "2021-11-06T13:27:00.225550Z",
     "shell.execute_reply": "2021-11-06T13:27:00.224909Z",
     "shell.execute_reply.started": "2021-11-06T13:27:00.215892Z"
    }
   },
   "outputs": [],
   "source": [
    "def plot_histogram(column_name, data_frame=df):\n",
    "    \n",
    "    \"\"\"arguments: column_name:str - name of the column to be ploted\n",
    "       returns: histogram object\n",
    "    \"\"\"\n",
    "    \n",
    "    #  in case when column is not in data frame\n",
    "    if column_name not in data_frame.columns:\n",
    "        raise ValueError(f'Chose correct column from data frame colums: {data_frame.columns}')\n",
    "        \n",
    "    fig = px.histogram(data_frame=data_frame.sort_values(by=column_name), x=column_name,\n",
    "                       color_discrete_sequence=['blue'])\n",
    "    \n",
    "    \n",
    "    fig.update_layout(font=dict(family='Lato', size=16), \n",
    "                      title=dict(text=f'<b>histogram - {column_name}<b>',\n",
    "                                font=dict(size=24),\n",
    "                                x=.5),\n",
    "                     plot_bgcolor='lightblue',\n",
    "                     paper_bgcolor='lightblue',\n",
    "                     xaxis=dict(showgrid=False),\n",
    "                     yaxis=dict(showgrid=False))\n",
    "    \n",
    "    fig.show()"
   ]
  },
  {
   "cell_type": "code",
   "execution_count": null,
   "metadata": {
    "_kg_hide-input": true,
    "execution": {
     "iopub.execute_input": "2021-11-06T13:27:00.227997Z",
     "iopub.status.busy": "2021-11-06T13:27:00.227128Z",
     "iopub.status.idle": "2021-11-06T13:27:02.099251Z",
     "shell.execute_reply": "2021-11-06T13:27:02.098685Z",
     "shell.execute_reply.started": "2021-11-06T13:27:00.227952Z"
    }
   },
   "outputs": [],
   "source": [
    "numeric_columns = df.select_dtypes(include=[np.number])\n",
    "\n",
    "for column in numeric_columns:\n",
    "    plot_histogram(column)"
   ]
  },
  {
   "cell_type": "markdown",
   "metadata": {},
   "source": [
    "At the first glance:\n",
    "\n",
    "I think that droping prices from 2010 to 2015 (inclusive) is \n",
    "necessarily"
   ]
  },
  {
   "cell_type": "code",
   "execution_count": null,
   "metadata": {
    "_kg_hide-input": true,
    "execution": {
     "iopub.execute_input": "2021-11-06T13:27:02.100492Z",
     "iopub.status.busy": "2021-11-06T13:27:02.100297Z",
     "iopub.status.idle": "2021-11-06T13:27:02.106007Z",
     "shell.execute_reply": "2021-11-06T13:27:02.105463Z",
     "shell.execute_reply.started": "2021-11-06T13:27:02.100468Z"
    }
   },
   "outputs": [],
   "source": [
    "columns_to_drop = []\n",
    "\n",
    "for x in range(2010, 2016):\n",
    "    column_name:str = 'price_in_' + str(x)\n",
    "    columns_to_drop.append(column_name)\n",
    "    \n",
    "columns_to_drop"
   ]
  },
  {
   "cell_type": "code",
   "execution_count": null,
   "metadata": {
    "_kg_hide-input": true,
    "execution": {
     "iopub.execute_input": "2021-11-06T13:27:02.107255Z",
     "iopub.status.busy": "2021-11-06T13:27:02.106947Z",
     "iopub.status.idle": "2021-11-06T13:27:02.116829Z",
     "shell.execute_reply": "2021-11-06T13:27:02.116015Z",
     "shell.execute_reply.started": "2021-11-06T13:27:02.107229Z"
    }
   },
   "outputs": [],
   "source": [
    "df.drop(columns=columns_to_drop, inplace=True)"
   ]
  },
  {
   "cell_type": "markdown",
   "metadata": {
    "execution": {
     "iopub.execute_input": "2021-11-05T16:36:08.252445Z",
     "iopub.status.busy": "2021-11-05T16:36:08.252229Z",
     "iopub.status.idle": "2021-11-05T16:36:08.277704Z",
     "shell.execute_reply": "2021-11-05T16:36:08.277055Z",
     "shell.execute_reply.started": "2021-11-05T16:36:08.252419Z"
    }
   },
   "source": [
    "After handling with null values it's time to handle with outliers, i'm going to set upper bound as less than 80."
   ]
  },
  {
   "cell_type": "code",
   "execution_count": null,
   "metadata": {
    "_kg_hide-input": true,
    "execution": {
     "iopub.execute_input": "2021-11-06T13:27:02.119416Z",
     "iopub.status.busy": "2021-11-06T13:27:02.118673Z",
     "iopub.status.idle": "2021-11-06T13:27:02.129615Z",
     "shell.execute_reply": "2021-11-06T13:27:02.128891Z",
     "shell.execute_reply.started": "2021-11-06T13:27:02.119380Z"
    }
   },
   "outputs": [],
   "source": [
    "internet_prices = (\n",
    "       df[\n",
    "    (df['price_in_2016'] < 80) \n",
    "    & (df['price_in_2017'] < 80)\n",
    "    & (df['price_in_2018'] < 80) \n",
    "    & (df['price_in_2019'] < 80) \n",
    "    & (df['price_in_2020'] < 80)]\n",
    "   )"
   ]
  },
  {
   "cell_type": "code",
   "execution_count": null,
   "metadata": {
    "_kg_hide-input": true,
    "execution": {
     "iopub.execute_input": "2021-11-06T13:27:02.131199Z",
     "iopub.status.busy": "2021-11-06T13:27:02.130986Z",
     "iopub.status.idle": "2021-11-06T13:27:02.489282Z",
     "shell.execute_reply": "2021-11-06T13:27:02.488603Z",
     "shell.execute_reply.started": "2021-11-06T13:27:02.131175Z"
    }
   },
   "outputs": [],
   "source": [
    "numeric_columns = internet_prices.select_dtypes(include=[np.number])\n",
    "\n",
    "for column in numeric_columns:\n",
    "    plot_histogram(column, data_frame=numeric_columns)"
   ]
  },
  {
   "cell_type": "markdown",
   "metadata": {},
   "source": [
    "### WHERE INTERNET WAS THE CHEAPEST AND WHERE IT WAS THE MOST EXPENSIVE?"
   ]
  },
  {
   "cell_type": "code",
   "execution_count": null,
   "metadata": {
    "_kg_hide-input": true,
    "execution": {
     "iopub.execute_input": "2021-11-06T13:27:02.490580Z",
     "iopub.status.busy": "2021-11-06T13:27:02.490237Z",
     "iopub.status.idle": "2021-11-06T13:27:02.504108Z",
     "shell.execute_reply": "2021-11-06T13:27:02.503070Z",
     "shell.execute_reply.started": "2021-11-06T13:27:02.490552Z"
    }
   },
   "outputs": [],
   "source": [
    "def bar_plot(column_name, data_frame=df, tribe='value_counts', by=None, limit=3, \n",
    "             ascending=False,**kwargs):\n",
    "    \n",
    "    \"\"\"arguments:\n",
    "    column_name:str name of column from pandas data drame\n",
    "    data_frame:pandas data frame default df\n",
    "    tribe:str value counts by default, change to 'sort' if you want to have\n",
    "    values in decreasing order\n",
    "    by:str works only if sort tribe chosed, takes name of the column\n",
    "        you want to sort values by\"\n",
    "    limit:int limit of values displayed\"\"\"\n",
    "    \n",
    "    \n",
    "    # if column is not str type or column not in columns of data frame\n",
    "    if type(column_name) != str or column_name not in data_frame.columns:\n",
    "        raise ValueError('Incorect column name or type')\n",
    "        \n",
    "    if type(limit) != int:\n",
    "        raise ValueErroc(f'excepted int type, got {type(limit)}')\n",
    "    \n",
    "    \n",
    "    # sorted data frame\n",
    "    if tribe == 'sort' :\n",
    "        # if column is not in data frame\n",
    "        if not by or by not in data_frame.columns:\n",
    "            raise ValueError('by paramter must be column from data frame!')\n",
    "        # in case if ascending is not provided as boolean\n",
    "        if type(ascending) != bool:\n",
    "            raise ValueError(f'expected ascending paramter to be bool type got: {ascending}')\n",
    "        data = data_frame.sort_values(by=by, ascending=ascending).head(limit)\n",
    "        y = data[by].values\n",
    "        x = data[column_name]\n",
    "        title = by\n",
    "    \n",
    "    # value counts\n",
    "    elif tribe == 'value_counts':\n",
    "        data = data_frame[column_name].value_counts().head(limit)\n",
    "        x=data.index\n",
    "        y=data.values\n",
    "        title = column_name\n",
    "    \n",
    "    \n",
    "    fig = px.bar(x=x, \n",
    "                 y=y,\n",
    "            color_discrete_sequence=['mintcream']\n",
    "                )\n",
    "\n",
    "    fig.update_layout(font=dict(family='Lato', size=16), \n",
    "                  title=dict(text=f'<b>{title}<b>',\n",
    "                           font=dict(size=30), x=.5), \n",
    "                  paper_bgcolor= 'lightblue', plot_bgcolor='lightblue',\n",
    "                 xaxis=dict(title=f'', showgrid=False),\n",
    "                 yaxis=dict(title=f'count', showgrid=False))\n",
    "        \n",
    "    fig.show()"
   ]
  },
  {
   "cell_type": "markdown",
   "metadata": {
    "execution": {
     "iopub.execute_input": "2021-11-05T17:25:50.994959Z",
     "iopub.status.busy": "2021-11-05T17:25:50.994672Z",
     "iopub.status.idle": "2021-11-05T17:25:51.00032Z",
     "shell.execute_reply": "2021-11-05T17:25:50.99946Z",
     "shell.execute_reply.started": "2021-11-05T17:25:50.994924Z"
    }
   },
   "source": [
    "### 2016"
   ]
  },
  {
   "cell_type": "markdown",
   "metadata": {},
   "source": [
    "#### CHEAPEST"
   ]
  },
  {
   "cell_type": "code",
   "execution_count": null,
   "metadata": {
    "_kg_hide-input": true,
    "execution": {
     "iopub.execute_input": "2021-11-06T13:27:02.505759Z",
     "iopub.status.busy": "2021-11-06T13:27:02.505427Z",
     "iopub.status.idle": "2021-11-06T13:27:02.600102Z",
     "shell.execute_reply": "2021-11-06T13:27:02.599314Z",
     "shell.execute_reply.started": "2021-11-06T13:27:02.505730Z"
    }
   },
   "outputs": [],
   "source": [
    "bar_plot(column_name='City', tribe='sort', by='price_in_2016',\n",
    "        data_frame=internet_prices, limit=10, ascending=True)"
   ]
  },
  {
   "cell_type": "markdown",
   "metadata": {},
   "source": [
    "#### MOST EXPENSIVE"
   ]
  },
  {
   "cell_type": "code",
   "execution_count": null,
   "metadata": {
    "_kg_hide-input": true,
    "execution": {
     "iopub.execute_input": "2021-11-06T13:27:02.601341Z",
     "iopub.status.busy": "2021-11-06T13:27:02.601137Z",
     "iopub.status.idle": "2021-11-06T13:27:02.679549Z",
     "shell.execute_reply": "2021-11-06T13:27:02.678568Z",
     "shell.execute_reply.started": "2021-11-06T13:27:02.601316Z"
    }
   },
   "outputs": [],
   "source": [
    "bar_plot(column_name='City', tribe='sort', by='price_in_2016',\n",
    "        data_frame=internet_prices, limit=10)"
   ]
  },
  {
   "cell_type": "markdown",
   "metadata": {},
   "source": [
    "### 2017"
   ]
  },
  {
   "cell_type": "markdown",
   "metadata": {},
   "source": [
    "#### CHEAPEST"
   ]
  },
  {
   "cell_type": "code",
   "execution_count": null,
   "metadata": {
    "_kg_hide-input": true,
    "execution": {
     "iopub.execute_input": "2021-11-06T13:27:02.681059Z",
     "iopub.status.busy": "2021-11-06T13:27:02.680750Z",
     "iopub.status.idle": "2021-11-06T13:27:02.753679Z",
     "shell.execute_reply": "2021-11-06T13:27:02.752887Z",
     "shell.execute_reply.started": "2021-11-06T13:27:02.681031Z"
    }
   },
   "outputs": [],
   "source": [
    "bar_plot(column_name='City', tribe='sort', by='price_in_2017',\n",
    "        data_frame=internet_prices, limit=10, ascending=True)"
   ]
  },
  {
   "cell_type": "markdown",
   "metadata": {},
   "source": [
    "#### MOST EXPENSIVE"
   ]
  },
  {
   "cell_type": "code",
   "execution_count": null,
   "metadata": {
    "_kg_hide-input": true,
    "execution": {
     "iopub.execute_input": "2021-11-06T13:27:02.755159Z",
     "iopub.status.busy": "2021-11-06T13:27:02.754910Z",
     "iopub.status.idle": "2021-11-06T13:27:02.828657Z",
     "shell.execute_reply": "2021-11-06T13:27:02.828078Z",
     "shell.execute_reply.started": "2021-11-06T13:27:02.755130Z"
    }
   },
   "outputs": [],
   "source": [
    "bar_plot(column_name='City', tribe='sort', by='price_in_2017',\n",
    "        data_frame=internet_prices, limit=10, ascending=False)"
   ]
  },
  {
   "cell_type": "markdown",
   "metadata": {},
   "source": [
    "### 2018"
   ]
  },
  {
   "cell_type": "markdown",
   "metadata": {},
   "source": [
    "### CHEAPEST"
   ]
  },
  {
   "cell_type": "code",
   "execution_count": null,
   "metadata": {
    "_kg_hide-input": true,
    "execution": {
     "iopub.execute_input": "2021-11-06T13:27:02.830331Z",
     "iopub.status.busy": "2021-11-06T13:27:02.829932Z",
     "iopub.status.idle": "2021-11-06T13:27:02.904379Z",
     "shell.execute_reply": "2021-11-06T13:27:02.903580Z",
     "shell.execute_reply.started": "2021-11-06T13:27:02.830299Z"
    }
   },
   "outputs": [],
   "source": [
    "bar_plot(column_name='City', tribe='sort', by='price_in_2018',\n",
    "        data_frame=internet_prices, limit=10, ascending=True)"
   ]
  },
  {
   "cell_type": "markdown",
   "metadata": {},
   "source": [
    "### MOST EXPENSIVE"
   ]
  },
  {
   "cell_type": "code",
   "execution_count": null,
   "metadata": {
    "_kg_hide-input": true,
    "execution": {
     "iopub.execute_input": "2021-11-06T13:27:02.905816Z",
     "iopub.status.busy": "2021-11-06T13:27:02.905584Z",
     "iopub.status.idle": "2021-11-06T13:27:02.978474Z",
     "shell.execute_reply": "2021-11-06T13:27:02.977523Z",
     "shell.execute_reply.started": "2021-11-06T13:27:02.905788Z"
    }
   },
   "outputs": [],
   "source": [
    "bar_plot(column_name='City', tribe='sort', by='price_in_2018',\n",
    "        data_frame=internet_prices, limit=10)"
   ]
  },
  {
   "cell_type": "markdown",
   "metadata": {},
   "source": [
    "### 2019"
   ]
  },
  {
   "cell_type": "markdown",
   "metadata": {},
   "source": [
    "### CHEAPEST"
   ]
  },
  {
   "cell_type": "code",
   "execution_count": null,
   "metadata": {
    "_kg_hide-input": true,
    "execution": {
     "iopub.execute_input": "2021-11-06T13:27:02.979972Z",
     "iopub.status.busy": "2021-11-06T13:27:02.979726Z",
     "iopub.status.idle": "2021-11-06T13:27:03.052556Z",
     "shell.execute_reply": "2021-11-06T13:27:03.051677Z",
     "shell.execute_reply.started": "2021-11-06T13:27:02.979944Z"
    }
   },
   "outputs": [],
   "source": [
    "bar_plot(column_name='City', tribe='sort', by='price_in_2019',\n",
    "        data_frame=internet_prices, limit=10, ascending=True)"
   ]
  },
  {
   "cell_type": "markdown",
   "metadata": {},
   "source": [
    "### MOST EXPENSIVE"
   ]
  },
  {
   "cell_type": "code",
   "execution_count": null,
   "metadata": {
    "_kg_hide-input": true,
    "execution": {
     "iopub.execute_input": "2021-11-06T13:27:03.054571Z",
     "iopub.status.busy": "2021-11-06T13:27:03.054336Z",
     "iopub.status.idle": "2021-11-06T13:27:03.129672Z",
     "shell.execute_reply": "2021-11-06T13:27:03.128623Z",
     "shell.execute_reply.started": "2021-11-06T13:27:03.054542Z"
    }
   },
   "outputs": [],
   "source": [
    "bar_plot(column_name='City', tribe='sort', by='price_in_2019',\n",
    "        data_frame=internet_prices, limit=10)"
   ]
  },
  {
   "cell_type": "markdown",
   "metadata": {},
   "source": [
    "### 2020"
   ]
  },
  {
   "cell_type": "markdown",
   "metadata": {},
   "source": [
    "#### CHEAPEST"
   ]
  },
  {
   "cell_type": "code",
   "execution_count": null,
   "metadata": {
    "_kg_hide-input": true,
    "execution": {
     "iopub.execute_input": "2021-11-06T13:27:03.136065Z",
     "iopub.status.busy": "2021-11-06T13:27:03.135750Z",
     "iopub.status.idle": "2021-11-06T13:27:03.206246Z",
     "shell.execute_reply": "2021-11-06T13:27:03.205440Z",
     "shell.execute_reply.started": "2021-11-06T13:27:03.136031Z"
    }
   },
   "outputs": [],
   "source": [
    "bar_plot(column_name='City', tribe='sort', by='price_in_2020',\n",
    "        data_frame=internet_prices, limit=10, ascending=True)"
   ]
  },
  {
   "cell_type": "markdown",
   "metadata": {},
   "source": [
    "### MOST EXPENSIVE"
   ]
  },
  {
   "cell_type": "code",
   "execution_count": null,
   "metadata": {
    "_kg_hide-input": true,
    "execution": {
     "iopub.execute_input": "2021-11-06T13:27:03.207617Z",
     "iopub.status.busy": "2021-11-06T13:27:03.207406Z",
     "iopub.status.idle": "2021-11-06T13:27:03.279430Z",
     "shell.execute_reply": "2021-11-06T13:27:03.278594Z",
     "shell.execute_reply.started": "2021-11-06T13:27:03.207592Z"
    }
   },
   "outputs": [],
   "source": [
    "bar_plot(column_name='City', tribe='sort', by='price_in_2020',\n",
    "        data_frame=internet_prices, limit=10)"
   ]
  },
  {
   "cell_type": "markdown",
   "metadata": {},
   "source": [
    "### MAP"
   ]
  },
  {
   "cell_type": "code",
   "execution_count": null,
   "metadata": {
    "_kg_hide-input": true,
    "execution": {
     "iopub.execute_input": "2021-11-06T13:27:03.300456Z",
     "iopub.status.busy": "2021-11-06T13:27:03.300135Z",
     "iopub.status.idle": "2021-11-06T13:27:03.477750Z",
     "shell.execute_reply": "2021-11-06T13:27:03.477104Z",
     "shell.execute_reply.started": "2021-11-06T13:27:03.300416Z"
    }
   },
   "outputs": [],
   "source": [
    "world = gpd.read_file(gpd.datasets.get_path('naturalearth_lowres'))"
   ]
  },
  {
   "cell_type": "markdown",
   "metadata": {},
   "source": [
    "I need to calculate average price for every country first"
   ]
  },
  {
   "cell_type": "code",
   "execution_count": null,
   "metadata": {
    "_kg_hide-input": true,
    "execution": {
     "iopub.execute_input": "2021-11-06T13:27:03.479897Z",
     "iopub.status.busy": "2021-11-06T13:27:03.479078Z",
     "iopub.status.idle": "2021-11-06T13:27:03.501774Z",
     "shell.execute_reply": "2021-11-06T13:27:03.500930Z",
     "shell.execute_reply.started": "2021-11-06T13:27:03.479829Z"
    }
   },
   "outputs": [],
   "source": [
    "averages_for_countries =(internet_prices[['Country', 'price_in_2016', \n",
    "                       'price_in_2017', 'price_in_2018',\n",
    "                       'price_in_2019','price_in_2020']]\n",
    "                      .groupby('Country').mean())\n",
    "\n",
    "averages_for_countries"
   ]
  },
  {
   "cell_type": "code",
   "execution_count": null,
   "metadata": {
    "execution": {
     "iopub.execute_input": "2021-11-06T13:27:03.503692Z",
     "iopub.status.busy": "2021-11-06T13:27:03.503179Z",
     "iopub.status.idle": "2021-11-06T13:27:03.518694Z",
     "shell.execute_reply": "2021-11-06T13:27:03.517731Z",
     "shell.execute_reply.started": "2021-11-06T13:27:03.503648Z"
    }
   },
   "outputs": [],
   "source": [
    "world.rename(columns={'name': 'Country'}, inplace=True)\n",
    "\n",
    "world = world.merge(averages_for_countries, how='left', on='Country')"
   ]
  },
  {
   "cell_type": "code",
   "execution_count": null,
   "metadata": {
    "_kg_hide-input": true,
    "execution": {
     "iopub.execute_input": "2021-11-06T13:27:03.521027Z",
     "iopub.status.busy": "2021-11-06T13:27:03.520282Z",
     "iopub.status.idle": "2021-11-06T13:27:03.529991Z",
     "shell.execute_reply": "2021-11-06T13:27:03.529291Z",
     "shell.execute_reply.started": "2021-11-06T13:27:03.520982Z"
    }
   },
   "outputs": [],
   "source": [
    "def map_plot(column_name:str, data_frame=world):\n",
    "    \"\"\"this function takes two parameters,\n",
    "    first is column_name: str and second is data frame \n",
    "    by default it's world\n",
    "    returns: map of the world with values from column_name parameter\"\"\"\n",
    "    fig, ax = plt.subplots(figsize=(15,10))\n",
    "\n",
    "    ax.set_xticks([]) #  removing ticks\n",
    "    ax.set_yticks([])\n",
    "\n",
    "    ax.set_title(column_name, weight = 'bold', fontsize  = 20)\n",
    "    data_frame.plot(column_name,\n",
    "           legend = True, \n",
    "           ax = ax,\n",
    "           missing_kwds= {'color': 'lightgrey', 'edgecolor': 'red', 'hatch': '///', 'label': 'No data'},\n",
    "           cmap='flare', scheme = 'quantiles',\n",
    "          legend_kwds={'loc': 'lower left'},\n",
    ")"
   ]
  },
  {
   "cell_type": "code",
   "execution_count": null,
   "metadata": {
    "_kg_hide-input": true,
    "execution": {
     "iopub.execute_input": "2021-11-06T13:27:03.531902Z",
     "iopub.status.busy": "2021-11-06T13:27:03.531271Z",
     "iopub.status.idle": "2021-11-06T13:27:03.544338Z",
     "shell.execute_reply": "2021-11-06T13:27:03.543648Z",
     "shell.execute_reply.started": "2021-11-06T13:27:03.531860Z"
    }
   },
   "outputs": [],
   "source": [
    "columns_to_plot = (\n",
    "                    'price_in_2016', 'price_in_2017', 'price_in_2018', \n",
    "                   'price_in_2019','price_in_2020'\n",
    "                  )"
   ]
  },
  {
   "cell_type": "code",
   "execution_count": null,
   "metadata": {
    "_kg_hide-input": true,
    "execution": {
     "iopub.execute_input": "2021-11-06T13:27:03.546005Z",
     "iopub.status.busy": "2021-11-06T13:27:03.545614Z",
     "iopub.status.idle": "2021-11-06T13:27:06.623225Z",
     "shell.execute_reply": "2021-11-06T13:27:06.622057Z",
     "shell.execute_reply.started": "2021-11-06T13:27:03.545978Z"
    }
   },
   "outputs": [],
   "source": [
    "for column in columns_to_plot:\n",
    "    map_plot(column)"
   ]
  },
  {
   "cell_type": "markdown",
   "metadata": {},
   "source": [
    "Following conclusions can be drawn from the plots above:\n",
    "\n",
    "* Internet in USA and Canada is relativery expensive, the same situtation is in Australia\n",
    "* West Europe have relatively lower prices of internet than East Europe\n",
    "* in last 3 years price of internet in Russia decreased\n",
    "* Internet in Africa seems to be quite expensive but there's a lot of missing data on this continent\n",
    "* Internet price in South America seems to decrase over years\n",
    "* Internet price in Asia seems to dercrease over years as well"
   ]
  },
  {
   "cell_type": "markdown",
   "metadata": {},
   "source": [
    "Last thing I'm going to see how internet prices changed over year in Poland."
   ]
  },
  {
   "cell_type": "code",
   "execution_count": null,
   "metadata": {
    "_kg_hide-input": true,
    "execution": {
     "iopub.execute_input": "2021-11-06T13:27:06.624622Z",
     "iopub.status.busy": "2021-11-06T13:27:06.624407Z",
     "iopub.status.idle": "2021-11-06T13:27:06.630154Z",
     "shell.execute_reply": "2021-11-06T13:27:06.629230Z",
     "shell.execute_reply.started": "2021-11-06T13:27:06.624596Z"
    }
   },
   "outputs": [],
   "source": [
    "poland = internet_prices[internet_prices['Country'] == 'Poland']"
   ]
  },
  {
   "cell_type": "code",
   "execution_count": null,
   "metadata": {
    "_kg_hide-input": true,
    "execution": {
     "iopub.execute_input": "2021-11-06T13:27:06.631916Z",
     "iopub.status.busy": "2021-11-06T13:27:06.631628Z",
     "iopub.status.idle": "2021-11-06T13:27:06.999785Z",
     "shell.execute_reply": "2021-11-06T13:27:06.998996Z",
     "shell.execute_reply.started": "2021-11-06T13:27:06.631840Z"
    }
   },
   "outputs": [],
   "source": [
    "columns_to_plot = (\n",
    "                    'price_in_2016', 'price_in_2017', 'price_in_2018', \n",
    "                   'price_in_2019','price_in_2020'\n",
    "                  )\n",
    "\n",
    "for column in columns_to_plot:\n",
    "    bar_plot('City', data_frame=poland, tribe='sort', by=column, limit=11)"
   ]
  },
  {
   "cell_type": "markdown",
   "metadata": {
    "execution": {
     "iopub.execute_input": "2021-11-05T21:09:55.468612Z",
     "iopub.status.busy": "2021-11-05T21:09:55.468297Z",
     "iopub.status.idle": "2021-11-05T21:09:55.486357Z",
     "shell.execute_reply": "2021-11-05T21:09:55.4852Z",
     "shell.execute_reply.started": "2021-11-05T21:09:55.468578Z"
    }
   },
   "source": [
    "I thought that internet price in Warsaw or Krakow will be the biggest,\n",
    "but according to the plot above - that's not True."
   ]
  }
 ],
 "metadata": {
  "kernelspec": {
   "display_name": "Python 3",
   "language": "python",
   "name": "python3"
  },
  "language_info": {
   "codemirror_mode": {
    "name": "ipython",
    "version": 3
   },
   "file_extension": ".py",
   "mimetype": "text/x-python",
   "name": "python",
   "nbconvert_exporter": "python",
   "pygments_lexer": "ipython3",
   "version": "3.8.5"
  }
 },
 "nbformat": 4,
 "nbformat_minor": 4
}
