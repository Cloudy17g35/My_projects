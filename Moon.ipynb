{
 "cells": [
  {
   "cell_type": "code",
   "execution_count": 33,
   "metadata": {},
   "outputs": [],
   "source": [
    "import pandas as pd\n",
    "import matplotlib.pyplot as plt\n",
    "import seaborn as sns\n",
    "import numpy as np"
   ]
  },
  {
   "cell_type": "code",
   "execution_count": 3,
   "metadata": {},
   "outputs": [],
   "source": [
    "moon = pd.read_csv(\"moon.csv\")"
   ]
  },
  {
   "cell_type": "code",
   "execution_count": 4,
   "metadata": {},
   "outputs": [
    {
     "data": {
      "text/html": [
       "<div>\n",
       "<style scoped>\n",
       "    .dataframe tbody tr th:only-of-type {\n",
       "        vertical-align: middle;\n",
       "    }\n",
       "\n",
       "    .dataframe tbody tr th {\n",
       "        vertical-align: top;\n",
       "    }\n",
       "\n",
       "    .dataframe thead th {\n",
       "        text-align: right;\n",
       "    }\n",
       "</style>\n",
       "<table border=\"1\" class=\"dataframe\">\n",
       "  <thead>\n",
       "    <tr style=\"text-align: right;\">\n",
       "      <th></th>\n",
       "      <th>Year</th>\n",
       "      <th>Month</th>\n",
       "      <th>Day</th>\n",
       "      <th>Location</th>\n",
       "      <th>Description</th>\n",
       "      <th>Credit</th>\n",
       "    </tr>\n",
       "  </thead>\n",
       "  <tbody>\n",
       "    <tr>\n",
       "      <th>0</th>\n",
       "      <td>1540</td>\n",
       "      <td>Nov</td>\n",
       "      <td>26</td>\n",
       "      <td>Region of Calippus</td>\n",
       "      <td>Starlike appearance on dark side</td>\n",
       "      <td>Observers at Worms</td>\n",
       "    </tr>\n",
       "    <tr>\n",
       "      <th>1</th>\n",
       "      <td>1587</td>\n",
       "      <td>Mar</td>\n",
       "      <td>5</td>\n",
       "      <td>Dark Side</td>\n",
       "      <td>A sterre is sene in the bodie of the moon vpon...</td>\n",
       "      <td>Anonymous</td>\n",
       "    </tr>\n",
       "    <tr>\n",
       "      <th>2</th>\n",
       "      <td>1668</td>\n",
       "      <td>Nov</td>\n",
       "      <td>26</td>\n",
       "      <td>Dark Side</td>\n",
       "      <td>Bright starlike point</td>\n",
       "      <td>Several New Englanders</td>\n",
       "    </tr>\n",
       "    <tr>\n",
       "      <th>3</th>\n",
       "      <td>1671</td>\n",
       "      <td>Oct</td>\n",
       "      <td>21</td>\n",
       "      <td>Pitatus</td>\n",
       "      <td>NaN</td>\n",
       "      <td>NaN</td>\n",
       "    </tr>\n",
       "    <tr>\n",
       "      <th>4</th>\n",
       "      <td>1671</td>\n",
       "      <td>Nov</td>\n",
       "      <td>12</td>\n",
       "      <td>Pitatus</td>\n",
       "      <td>Small whitish cloud</td>\n",
       "      <td>D.Cassini</td>\n",
       "    </tr>\n",
       "  </tbody>\n",
       "</table>\n",
       "</div>"
      ],
      "text/plain": [
       "   Year Month  Day            Location  \\\n",
       "0  1540   Nov   26  Region of Calippus   \n",
       "1  1587   Mar    5           Dark Side   \n",
       "2  1668   Nov   26           Dark Side   \n",
       "3  1671   Oct   21             Pitatus   \n",
       "4  1671   Nov   12             Pitatus   \n",
       "\n",
       "                                         Description                  Credit  \n",
       "0                   Starlike appearance on dark side      Observers at Worms  \n",
       "1  A sterre is sene in the bodie of the moon vpon...               Anonymous  \n",
       "2                              Bright starlike point  Several New Englanders  \n",
       "3                                                NaN                     NaN  \n",
       "4                                Small whitish cloud               D.Cassini  "
      ]
     },
     "execution_count": 4,
     "metadata": {},
     "output_type": "execute_result"
    }
   ],
   "source": [
    "moon.head()"
   ]
  },
  {
   "cell_type": "code",
   "execution_count": 41,
   "metadata": {},
   "outputs": [
    {
     "name": "stdout",
     "output_type": "stream",
     "text": [
      "<class 'pandas.core.frame.DataFrame'>\n",
      "RangeIndex: 536 entries, 0 to 535\n",
      "Data columns (total 7 columns):\n",
      " #   Column       Non-Null Count  Dtype \n",
      "---  ------       --------------  ----- \n",
      " 0   Year         536 non-null    int64 \n",
      " 1   Month        536 non-null    object\n",
      " 2   Day          536 non-null    int64 \n",
      " 3   Location     506 non-null    object\n",
      " 4   Description  533 non-null    object\n",
      " 5   Credit       526 non-null    object\n",
      " 6   Accidents    536 non-null    int64 \n",
      "dtypes: int64(3), object(4)\n",
      "memory usage: 29.4+ KB\n"
     ]
    }
   ],
   "source": [
    "moon.info()"
   ]
  },
  {
   "cell_type": "code",
   "execution_count": 5,
   "metadata": {},
   "outputs": [
    {
     "data": {
      "text/html": [
       "<div>\n",
       "<style scoped>\n",
       "    .dataframe tbody tr th:only-of-type {\n",
       "        vertical-align: middle;\n",
       "    }\n",
       "\n",
       "    .dataframe tbody tr th {\n",
       "        vertical-align: top;\n",
       "    }\n",
       "\n",
       "    .dataframe thead th {\n",
       "        text-align: right;\n",
       "    }\n",
       "</style>\n",
       "<table border=\"1\" class=\"dataframe\">\n",
       "  <thead>\n",
       "    <tr style=\"text-align: right;\">\n",
       "      <th></th>\n",
       "      <th>Year</th>\n",
       "      <th>Month</th>\n",
       "      <th>Day</th>\n",
       "      <th>Location</th>\n",
       "      <th>Description</th>\n",
       "      <th>Credit</th>\n",
       "    </tr>\n",
       "  </thead>\n",
       "  <tbody>\n",
       "    <tr>\n",
       "      <th>531</th>\n",
       "      <td>1967</td>\n",
       "      <td>Sep</td>\n",
       "      <td>11</td>\n",
       "      <td>Mare Tranquilitaties: 8-9 sec</td>\n",
       "      <td>Black cloud surrounded by violet color</td>\n",
       "      <td>Montreal group</td>\n",
       "    </tr>\n",
       "    <tr>\n",
       "      <th>532</th>\n",
       "      <td>1967</td>\n",
       "      <td>Sep</td>\n",
       "      <td>11</td>\n",
       "      <td>Sabine</td>\n",
       "      <td>Bright yellow flash visible a fraction of a se...</td>\n",
       "      <td>Mrs P.Jean and Montreal group</td>\n",
       "    </tr>\n",
       "    <tr>\n",
       "      <th>533</th>\n",
       "      <td>1967</td>\n",
       "      <td>Sep</td>\n",
       "      <td>17</td>\n",
       "      <td>Aristarchus</td>\n",
       "      <td>Red color observed</td>\n",
       "      <td>Delano</td>\n",
       "    </tr>\n",
       "    <tr>\n",
       "      <th>534</th>\n",
       "      <td>1967</td>\n",
       "      <td>Oct</td>\n",
       "      <td>10</td>\n",
       "      <td>SE of Ross D</td>\n",
       "      <td>Bright area moved 80 kmhr toward SSE and expan...</td>\n",
       "      <td>Harris</td>\n",
       "    </tr>\n",
       "    <tr>\n",
       "      <th>535</th>\n",
       "      <td>1967</td>\n",
       "      <td>Oct</td>\n",
       "      <td>19</td>\n",
       "      <td>Kepler</td>\n",
       "      <td>Aristarchus</td>\n",
       "      <td>High moon</td>\n",
       "    </tr>\n",
       "  </tbody>\n",
       "</table>\n",
       "</div>"
      ],
      "text/plain": [
       "     Year Month  Day                       Location  \\\n",
       "531  1967   Sep   11  Mare Tranquilitaties: 8-9 sec   \n",
       "532  1967   Sep   11                         Sabine   \n",
       "533  1967   Sep   17                    Aristarchus   \n",
       "534  1967   Oct   10                   SE of Ross D   \n",
       "535  1967   Oct   19                         Kepler   \n",
       "\n",
       "                                           Description  \\\n",
       "531             Black cloud surrounded by violet color   \n",
       "532  Bright yellow flash visible a fraction of a se...   \n",
       "533                                 Red color observed   \n",
       "534  Bright area moved 80 kmhr toward SSE and expan...   \n",
       "535                                        Aristarchus   \n",
       "\n",
       "                            Credit  \n",
       "531                 Montreal group  \n",
       "532  Mrs P.Jean and Montreal group  \n",
       "533                         Delano  \n",
       "534                         Harris  \n",
       "535                      High moon  "
      ]
     },
     "execution_count": 5,
     "metadata": {},
     "output_type": "execute_result"
    }
   ],
   "source": [
    "moon.tail()"
   ]
  },
  {
   "cell_type": "code",
   "execution_count": 6,
   "metadata": {},
   "outputs": [
    {
     "data": {
      "text/plain": [
       "Year            0\n",
       "Month           0\n",
       "Day             0\n",
       "Location       30\n",
       "Description     3\n",
       "Credit         10\n",
       "dtype: int64"
      ]
     },
     "execution_count": 6,
     "metadata": {},
     "output_type": "execute_result"
    }
   ],
   "source": [
    "moon.isnull().sum()"
   ]
  },
  {
   "cell_type": "code",
   "execution_count": 16,
   "metadata": {},
   "outputs": [],
   "source": [
    "moon[\"Accidents\"] = 1\n",
    "moon_records = moon.groupby(\"Month\").sum()[\"Accidents\"]"
   ]
  },
  {
   "cell_type": "code",
   "execution_count": 82,
   "metadata": {},
   "outputs": [
    {
     "data": {
      "image/png": "[encoded data removed]",
      "text/plain": [
       "<Figure size 324x504 with 1 Axes>"
      ]
     },
     "metadata": {
      "needs_background": "light"
     },
     "output_type": "display_data"
    }
   ],
   "source": [
    "fig, ax = plt.subplots(figsize= (4.5,7))\n",
    "\n",
    "ax.barh(moon_records.index, moon_records.values, height=0.4, color=\"grey\")\n",
    "\n",
    "for location in [\"left\", \"right\", \"bottom\", \"top\"]:\n",
    "    ax.spines[location].set_visible(False)\n",
    "\n",
    "ax.tick_params(bottom = False, left = False)\n",
    "new_ticks = np.arange(0,81,40)\n",
    "\n",
    "ax.set_xticks(new_ticks)\n",
    "ax.xaxis.tick_top()\n",
    "ax.axvline(x = 40, ymin = 0.040, c=\"red\", linestyle=\"--\", alpha=0.7)\n",
    "ax.text(0,13,\"Mysterios anomalies on the moon\",fontsize = 20, weight=\"bold\")\n",
    "plt.text(0,12.5,\"in years 1540 - 1967 categorized by month\", fontsize = 14)\n",
    "plt.show()"
   ]
  }
 ],
 "metadata": {
  "kernelspec": {
   "display_name": "Python 3",
   "language": "python",
   "name": "python3"
  },
  "language_info": {
   "codemirror_mode": {
    "name": "ipython",
    "version": 3
   },
   "file_extension": ".py",
   "mimetype": "text/x-python",
   "name": "python",
   "nbconvert_exporter": "python",
   "pygments_lexer": "ipython3",
   "version": "3.8.5"
  }
 },
 "nbformat": 4,
 "nbformat_minor": 4
}
